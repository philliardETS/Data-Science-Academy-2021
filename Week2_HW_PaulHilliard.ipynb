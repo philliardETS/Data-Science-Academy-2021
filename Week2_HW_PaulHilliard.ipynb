{
 "cells": [
  {
   "cell_type": "code",
   "execution_count": 2,
   "metadata": {},
   "outputs": [
    {
     "name": "stdout",
     "output_type": "stream",
     "text": [
      "[None None None None 1 None None None None None]\n",
      "[None None None None 1 None None None None None]\n"
     ]
    }
   ],
   "source": [
    "#1. Create a null array of size 10 but the fifth value which is 1\n",
    "\n",
    "# Importing Numpy\n",
    "import numpy as np\n",
    "myarray=np.array([None,None,None,None,1,None,None,None,None,None])\n",
    "print(myarray)\n",
    "\n",
    "\n",
    "#OR TRY THIS\n",
    "a=np.array([None]*10, dtype=object)\n",
    "a[4]=1\n",
    "print(a)"
   ]
  },
  {
   "cell_type": "code",
   "execution_count": 22,
   "metadata": {},
   "outputs": [
    {
     "name": "stdout",
     "output_type": "stream",
     "text": [
      "[None None None None None 1 None None None None]\n",
      "1D array in numpy is [None None None None None 1 None None None None]\n",
      "\n",
      "shape of the numpy array is 10\n",
      "\n"
     ]
    }
   ],
   "source": [
    "#2. Reverse a above created array (first element becomes last)\n",
    "myarray2=myarray[::-1]\n",
    "print(myarray2)\n",
    "print ('1D array in numpy is %s\\n'%myarray2)\n",
    "print ('shape of the numpy array is %s\\n'%myarray2.shape)"
   ]
  },
  {
   "cell_type": "code",
   "execution_count": 21,
   "metadata": {},
   "outputs": [
    {
     "name": "stdout",
     "output_type": "stream",
     "text": [
      "[[0 1 2]\n",
      " [3 4 5]\n",
      " [6 7 8]]\n",
      "(3, 3)\n",
      "Flattened version of numpy matrix is [0 1 2 3 4 5 6 7 8]\n",
      "\n"
     ]
    }
   ],
   "source": [
    "#3. Create a 3x3 matrix with values ranging from 0 to 8\n",
    "mymatrix = [[0,1,2],[3,4,5],[6,7,8]]\n",
    "m=np.array(mymatrix)\n",
    "print(m)\n",
    "print(m.shape)\n",
    "print ('Flattened version of numpy matrix is %s\\n'% m.flatten())"
   ]
  },
  {
   "cell_type": "code",
   "execution_count": 47,
   "metadata": {},
   "outputs": [
    {
     "name": "stdout",
     "output_type": "stream",
     "text": [
      "Elements that are non-zero are [0 1 4]\n"
     ]
    }
   ],
   "source": [
    "#4. Find indices of non-zero elements from [1,2,0,0,4,0]\n",
    "array4=np.array([1,2,0,0,4,0])\n",
    "arraynotzero=np.where(array4 != 0)\n",
    "print ('Elements that are non-zero are %s'%arraynotzero)"
   ]
  },
  {
   "cell_type": "code",
   "execution_count": 34,
   "metadata": {},
   "outputs": [
    {
     "name": "stdout",
     "output_type": "stream",
     "text": [
      "matrix generated from numpy.random.uniform is \n",
      "[[[0.91161363 0.88992668 0.79462594]\n",
      "  [0.45023735 0.50855014 0.79382301]\n",
      "  [0.15221636 0.59379919 0.90154426]]\n",
      "\n",
      " [[0.53705815 0.15637561 0.85194738]\n",
      "  [0.1405966  0.34286599 0.47209046]\n",
      "  [0.9362961  0.24328514 0.20874084]]\n",
      "\n",
      " [[0.23994202 0.3414457  0.18791452]\n",
      "  [0.57353168 0.33176356 0.78929838]\n",
      "  [0.31301794 0.416955   0.06796209]]]\n",
      "\n"
     ]
    }
   ],
   "source": [
    "#5. Create a 3x3x3 array with random values\n",
    "array5=np.random.uniform(0,1,size=(3,3,3))\n",
    "print ('matrix generated from numpy.random.uniform is \\n%s\\n'%array5)"
   ]
  },
  {
   "cell_type": "code",
   "execution_count": 68,
   "metadata": {},
   "outputs": [
    {
     "name": "stdout",
     "output_type": "stream",
     "text": [
      "10x10 matrix is \n",
      "[[9 8 1 6 4 3 8 7 5 4]\n",
      " [3 1 9 8 5 7 6 1 5 5]\n",
      " [3 3 0 1 5 2 6 1 2 6]\n",
      " [5 8 5 4 6 8 1 3 9 5]\n",
      " [0 3 5 6 7 5 7 1 6 1]\n",
      " [2 6 4 2 1 5 6 9 0 2]\n",
      " [8 9 7 7 6 3 2 4 6 8]\n",
      " [6 6 0 8 6 2 1 8 9 6]\n",
      " [1 5 0 9 8 6 8 8 2 1]\n",
      " [6 7 7 9 7 0 2 0 1 8]]\n",
      "\n",
      "minimum value is \n",
      "0\n",
      "\n",
      "maximum value is \n",
      "9\n",
      "\n"
     ]
    }
   ],
   "source": [
    "#6. Create a 10x10 array with random values and find the minimum and maximum values\n",
    "array6 = np.random.randint(0,10,(10,10))\n",
    "print ('10x10 matrix is \\n%s\\n'%array6)\n",
    "min=array6.min()\n",
    "#or min=np.min(array6)\n",
    "max=array6.max()\n",
    "#or max=np.max(array6)\n",
    "print ('minimum value is \\n%s\\n'%min)\n",
    "print ('maximum value is \\n%s\\n'%max)"
   ]
  },
  {
   "cell_type": "code",
   "execution_count": 74,
   "metadata": {},
   "outputs": [
    {
     "name": "stdout",
     "output_type": "stream",
     "text": [
      "vector is \n",
      "[[65 99 10  8  9 28 18 59 81 19 33 56 60 12 22  9 55  8 97 27 13 53 46 68\n",
      "  44 34 36 58  5 42]]\n",
      "\n",
      "vector mean is \n",
      "39.13333333333333\n",
      "\n"
     ]
    }
   ],
   "source": [
    "#7. Create a random vector of size 30 and find the mean value\n",
    "array7=np.random.randint(0,100,(1,30))\n",
    "print ('vector is \\n%s\\n'%array7)\n",
    "mean7=array7.mean()\n",
    "#or mean7=np.mean(array7)\n",
    "print('vector mean is \\n%s\\n'%mean7)"
   ]
  },
  {
   "cell_type": "code",
   "execution_count": 6,
   "metadata": {},
   "outputs": [
    {
     "name": "stdout",
     "output_type": "stream",
     "text": [
      "The resulting appended vector is \n",
      "[[1. 1. 1. 1. 1. 1. 1. 1. 1. 1.]\n",
      " [1. 0. 0. 0. 0. 0. 0. 0. 0. 1.]\n",
      " [1. 0. 0. 0. 0. 0. 0. 0. 0. 1.]\n",
      " [1. 0. 0. 0. 0. 0. 0. 0. 0. 1.]\n",
      " [1. 1. 1. 1. 1. 1. 1. 1. 1. 1.]]\n",
      "\n",
      "[[1. 1. 1. 1. 1. 1. 1.]\n",
      " [1. 1. 1. 1. 1. 1. 1.]\n",
      " [1. 1. 1. 1. 1. 1. 1.]\n",
      " [1. 1. 1. 1. 1. 1. 1.]\n",
      " [1. 1. 1. 1. 1. 1. 1.]\n",
      " [1. 1. 1. 1. 1. 1. 1.]\n",
      " [1. 1. 1. 1. 1. 1. 1.]]\n",
      "[[1. 1. 1. 1. 1. 1. 1.]\n",
      " [1. 0. 0. 0. 0. 0. 1.]\n",
      " [1. 0. 0. 0. 0. 0. 1.]\n",
      " [1. 0. 0. 0. 0. 0. 1.]\n",
      " [1. 0. 0. 0. 0. 0. 1.]\n",
      " [1. 0. 0. 0. 0. 0. 1.]\n",
      " [1. 1. 1. 1. 1. 1. 1.]]\n"
     ]
    }
   ],
   "source": [
    "#8. Create a 2d array with 1 on the border and 0 inside\n",
    "import numpy as np\n",
    "row1=np.ones((1,10))\n",
    "row2=[(1,0,0,0,0,0,0,0,0,1)]\n",
    "newarray=np.vstack([row1,row2,row2,row2,row1])\n",
    "print('The resulting appended vector is \\n%s\\n'%newarray)\n",
    "\n",
    "#another option\n",
    "array8=np.ones((7,7))\n",
    "print(array8)\n",
    "array8[1:-1,1:-1]=0\n",
    "print(array8)"
   ]
  },
  {
   "cell_type": "code",
   "execution_count": 7,
   "metadata": {},
   "outputs": [
    {
     "name": "stdout",
     "output_type": "stream",
     "text": [
      "The 5x3 matrix is \n",
      "[[2 1 2]\n",
      " [2 6 1]\n",
      " [3 1 7]\n",
      " [5 8 9]\n",
      " [0 6 8]]\n",
      "\n",
      "The 3x2 matrix is \n",
      "[[8 7]\n",
      " [1 2]\n",
      " [7 1]]\n",
      "\n",
      "The resulting matrix product is \n",
      "[[ 31  18]\n",
      " [ 29  27]\n",
      " [ 74  30]\n",
      " [111  60]\n",
      " [ 62  20]]\n",
      "\n"
     ]
    }
   ],
   "source": [
    "#9. Multiply a 5x3 matrix by a 3x2 matrix (real matrix product)\n",
    "array9_1=np.random.randint(0,10,size=(5,3))\n",
    "print('The 5x3 matrix is \\n%s\\n'%array9_1)\n",
    "array9_2=np.random.randint(0,10,size=(3,2))\n",
    "print('The 3x2 matrix is \\n%s\\n'%array9_2)\n",
    "array9=array9_1 @ array9_2\n",
    "print('The resulting matrix product is \\n%s\\n'%array9)\n",
    "\n",
    "#or\n",
    "array9=np.dot(array9_1,array9_2)"
   ]
  },
  {
   "cell_type": "code",
   "execution_count": 9,
   "metadata": {},
   "outputs": [
    {
     "name": "stdout",
     "output_type": "stream",
     "text": [
      "[[ 0.57316042  7.06351181 -5.21709314  1.11824255  5.73034754  6.32308131\n",
      "  -7.29272984  9.32871119 -7.18143878  2.77766167]]\n",
      "The resulting matrix is \n",
      "[[ 0.  7. -5.  1.  5.  6. -7.  9. -7.  2.]]\n",
      "\n",
      "[[ 1.  7. -5.  1.  6.  6. -7.  9. -7.  3.]]\n"
     ]
    }
   ],
   "source": [
    "#10. Extract the integer part of a random array\n",
    "array10=np.random.uniform(-10,10,size=(1,10))\n",
    "print(array10)\n",
    "array10trunc=np.trunc(array10)\n",
    "print('The resulting matrix is \\n%s\\n'%array10trunc)\n",
    "#or\n",
    "array10trunc=np.rint(array10)\n",
    "print(array10trunc)\n"
   ]
  },
  {
   "cell_type": "code",
   "execution_count": 43,
   "metadata": {},
   "outputs": [
    {
     "name": "stdout",
     "output_type": "stream",
     "text": [
      "The 5x5 matrix with random whole numbers from 0 to 4 is \n",
      "[[3 1 2 0 0]\n",
      " [3 0 2 0 1]\n",
      " [1 1 2 1 4]\n",
      " [4 3 4 2 4]\n",
      " [1 1 1 0 3]]\n",
      "\n"
     ]
    }
   ],
   "source": [
    "#11. Create a 5x5 matrix with row values ranging from 0 to 4\n",
    "array11=np.random.randint(0,5,size=(5,5))\n",
    "print('The 5x5 matrix with random whole numbers from 0 to 4 is \\n%s\\n'%array11)"
   ]
  },
  {
   "cell_type": "code",
   "execution_count": 59,
   "metadata": {},
   "outputs": [
    {
     "name": "stdout",
     "output_type": "stream",
     "text": [
      "The random vector of size 10 is \n",
      "[[9 2 3 5 2 9 6 2 5 3]]\n",
      "\n",
      "The random vector of size 10 SORTED is \n",
      "[[2 2 2 3 3 5 5 6 9 9]]\n",
      "\n"
     ]
    }
   ],
   "source": [
    "#12.  Create a random vector of size 10 and sort it\n",
    "array12=np.random.randint(0,10,size=(1,10))\n",
    "print('The random vector of size 10 is \\n%s\\n'%array12)\n",
    "array12.sort()\n",
    "print('The random vector of size 10 SORTED is \\n%s\\n'%array12)"
   ]
  },
  {
   "cell_type": "code",
   "execution_count": 11,
   "metadata": {},
   "outputs": [
    {
     "name": "stdout",
     "output_type": "stream",
     "text": [
      "The first random array is \n",
      "[[7 2 4 1 5 1 0 1 7 4]]\n",
      "\n",
      "The second random array is \n",
      "[[3 0 6 8 7 1 2 9 1 9]]\n",
      "\n",
      "Are they equal: \n",
      "False\n",
      "\n",
      "False\n"
     ]
    }
   ],
   "source": [
    "#13. Consider two random array A anb B, check if they are equal.\n",
    "array13_1=np.random.randint(0,10,size=(1,10))\n",
    "array13_2=np.random.randint(0,10,size=(1,10))\n",
    "print('The first random array is \\n%s\\n'%array13_1)\n",
    "print('The second random array is \\n%s\\n'%array13_2)\n",
    "SAME=np.array_equal(array13_1, array13_2, equal_nan=False)   #for integers\n",
    "print('Are they equal: \\n%s\\n'%SAME)\n",
    "\n",
    "option1=np.allclose(array13_1,array13_2)   #for floats\n",
    "print(option1)"
   ]
  },
  {
   "cell_type": "code",
   "execution_count": 37,
   "metadata": {},
   "outputs": [
    {
     "name": "stdout",
     "output_type": "stream",
     "text": [
      "The original random array is \n",
      "[[0. 1. 1. 1. 0. 2. 1. 0. 0. 0.]\n",
      " [1. 1. 1. 1. 1. 2. 1. 0. 2. 0.]\n",
      " [0. 2. 1. 0. 0. 0. 0. 1. 2. 1.]]\n",
      "\n",
      "The array with some NaN values is \n",
      "[[ 0.  1.  1. nan  0.  2.  1.  0.  0.  0.]\n",
      " [ 1.  1.  1. nan  1.  2.  1.  0.  2.  0.]\n",
      " [ 0.  2.  1. nan  0.  0.  0.  1.  2.  1.]]\n",
      "\n",
      "The check of NaN values is \n",
      "True\n",
      "\n"
     ]
    }
   ],
   "source": [
    "#14. How to tell if a given 2D array has null columns?\n",
    "import numpy as np\n",
    "array14_1 = np.random.randint(0,3,(3,10)).astype(float)\n",
    "print('The original random array is \\n%s\\n'%array14_1)\n",
    "array14_1[:,3] = np.nan\n",
    "print('The array with some NaN values is \\n%s\\n'%array14_1)\n",
    "NaNCheck = np.isnan(array14_1)\n",
    "print('The check of NaN values is \\n%s\\n'%((NaNCheck.all(axis=0)).any()))"
   ]
  },
  {
   "cell_type": "code",
   "execution_count": 60,
   "metadata": {},
   "outputs": [
    {
     "name": "stdout",
     "output_type": "stream",
     "text": [
      "The 4D array is \n",
      "[[[[3 0 8 5]\n",
      "   [2 5 8 5]\n",
      "   [5 3 4 1]]\n",
      "\n",
      "  [[2 3 5 4]\n",
      "   [9 3 7 9]\n",
      "   [2 5 9 8]]\n",
      "\n",
      "  [[9 1 7 2]\n",
      "   [8 5 4 7]\n",
      "   [0 5 0 3]]\n",
      "\n",
      "  [[6 7 6 5]\n",
      "   [4 8 7 7]\n",
      "   [6 3 7 7]]]\n",
      "\n",
      "\n",
      " [[[1 9 9 5]\n",
      "   [2 5 8 1]\n",
      "   [5 3 2 4]]\n",
      "\n",
      "  [[7 1 0 4]\n",
      "   [7 1 3 8]\n",
      "   [3 3 7 6]]\n",
      "\n",
      "  [[4 6 1 8]\n",
      "   [0 3 8 4]\n",
      "   [7 1 6 1]]\n",
      "\n",
      "  [[9 8 4 6]\n",
      "   [1 8 3 3]\n",
      "   [2 2 3 2]]]\n",
      "\n",
      "\n",
      " [[[1 6 9 5]\n",
      "   [6 1 9 2]\n",
      "   [1 3 3 7]]\n",
      "\n",
      "  [[8 8 2 6]\n",
      "   [8 5 5 5]\n",
      "   [3 1 4 9]]\n",
      "\n",
      "  [[8 7 1 9]\n",
      "   [3 1 2 1]\n",
      "   [3 5 8 7]]\n",
      "\n",
      "  [[7 1 3 8]\n",
      "   [0 6 2 9]\n",
      "   [0 6 7 7]]]]\n",
      "\n",
      "The sum of the last two axes is \n",
      "[[49 66 51 73]\n",
      " [54 50 49 51]\n",
      " [53 64 55 56]]\n",
      "\n",
      "[[49 66 51 73]\n",
      " [54 50 49 51]\n",
      " [53 64 55 56]]\n"
     ]
    }
   ],
   "source": [
    "#15. Considering a four dimensions array, how to get sum over the last two axis at once?\n",
    "array15 = np.random.randint(0,10,(3,4,3,4))\n",
    "print('The 4D array is \\n%s\\n'%array15)\n",
    "sum_2axis = array15.sum(axis=(-1,-2))\n",
    "print('The sum of the last two axes is \\n%s\\n'%sum_2axis)"
   ]
  },
  {
   "cell_type": "code",
   "execution_count": 12,
   "metadata": {},
   "outputs": [
    {
     "name": "stdout",
     "output_type": "stream",
     "text": [
      "The 5x5x3 matrix is \n",
      "[[[1. 1. 1.]\n",
      "  [1. 1. 1.]\n",
      "  [1. 1. 1.]\n",
      "  [1. 1. 1.]\n",
      "  [1. 1. 1.]]\n",
      "\n",
      " [[1. 1. 1.]\n",
      "  [1. 1. 1.]\n",
      "  [1. 1. 1.]\n",
      "  [1. 1. 1.]\n",
      "  [1. 1. 1.]]\n",
      "\n",
      " [[1. 1. 1.]\n",
      "  [1. 1. 1.]\n",
      "  [1. 1. 1.]\n",
      "  [1. 1. 1.]\n",
      "  [1. 1. 1.]]\n",
      "\n",
      " [[1. 1. 1.]\n",
      "  [1. 1. 1.]\n",
      "  [1. 1. 1.]\n",
      "  [1. 1. 1.]\n",
      "  [1. 1. 1.]]\n",
      "\n",
      " [[1. 1. 1.]\n",
      "  [1. 1. 1.]\n",
      "  [1. 1. 1.]\n",
      "  [1. 1. 1.]\n",
      "  [1. 1. 1.]]]\n",
      "\n",
      "The 5x5 array is \n",
      "[[2. 2. 2. 2. 2.]\n",
      " [2. 2. 2. 2. 2.]\n",
      " [2. 2. 2. 2. 2.]\n",
      " [2. 2. 2. 2. 2.]\n",
      " [2. 2. 2. 2. 2.]]\n",
      "\n",
      "The final array is \n",
      "[[[2. 2. 2.]\n",
      "  [2. 2. 2.]\n",
      "  [2. 2. 2.]\n",
      "  [2. 2. 2.]\n",
      "  [2. 2. 2.]]\n",
      "\n",
      " [[2. 2. 2.]\n",
      "  [2. 2. 2.]\n",
      "  [2. 2. 2.]\n",
      "  [2. 2. 2.]\n",
      "  [2. 2. 2.]]\n",
      "\n",
      " [[2. 2. 2.]\n",
      "  [2. 2. 2.]\n",
      "  [2. 2. 2.]\n",
      "  [2. 2. 2.]\n",
      "  [2. 2. 2.]]\n",
      "\n",
      " [[2. 2. 2.]\n",
      "  [2. 2. 2.]\n",
      "  [2. 2. 2.]\n",
      "  [2. 2. 2.]\n",
      "  [2. 2. 2.]]\n",
      "\n",
      " [[2. 2. 2.]\n",
      "  [2. 2. 2.]\n",
      "  [2. 2. 2.]\n",
      "  [2. 2. 2.]\n",
      "  [2. 2. 2.]]]\n",
      "\n",
      "[[2. 2. 2. ... 2. 2. 2.]\n",
      " [2. 2. 2. ... 2. 2. 2.]\n",
      " [2. 2. 2. ... 2. 2. 2.]\n",
      " ...\n",
      " [2. 2. 2. ... 2. 2. 2.]\n",
      " [2. 2. 2. ... 2. 2. 2.]\n",
      " [2. 2. 2. ... 2. 2. 2.]]\n"
     ]
    }
   ],
   "source": [
    "#16. Consider an array of dimension (5,5,3), how to mulitply it by an array with dimensions (5,5)?\n",
    "#Question: I'm not sure if this is right. I tried different things, but taking the outer product of\n",
    "#arrays with non-equal dimensions seems to work. I did not find a solution in the videos or in the notebook, so\n",
    "#I tried to find something online.\n",
    "array16_1 = np.ones((5,5,3))\n",
    "print('The 5x5x3 matrix is \\n%s\\n'%array16_1)\n",
    "array16_2 = 2*np.ones((5,5))\n",
    "print('The 5x5 array is \\n%s\\n'%array16_2)\n",
    "finalarray=(array16_1 * array16_2[:,:,None])\n",
    "print('The final array is \\n%s\\n'%finalarray)\n",
    "\n",
    "\n",
    "#also outer\n",
    "finalarray2=np.outer(array16_1,array16_2)\n",
    "print(finalarray2)"
   ]
  },
  {
   "cell_type": "code",
   "execution_count": 104,
   "metadata": {},
   "outputs": [
    {
     "name": "stdout",
     "output_type": "stream",
     "text": [
      "[[9 5 9 3 5 8 7 3 4 7]\n",
      " [0 0 0 6 3 7 3 9 6 9]\n",
      " [1 8 7 3 3 7 5 0 5 6]\n",
      " [8 3 5 0 5 7 0 9 5 5]\n",
      " [2 4 0 1 6 5 4 0 9 4]\n",
      " [7 1 5 2 2 5 3 2 6 6]\n",
      " [8 2 6 3 2 3 1 6 2 2]\n",
      " [6 8 8 1 6 4 7 8 4 3]\n",
      " [1 5 7 9 0 2 7 0 2 8]\n",
      " [5 8 3 8 4 4 1 5 0 1]]\n",
      "[[9 5 9]\n",
      " [0 0 0]\n",
      " [1 8 7]]\n",
      "[[3 5 8]\n",
      " [6 3 7]\n",
      " [3 3 7]]\n",
      "[[7 3 4]\n",
      " [3 9 6]\n",
      " [5 0 5]]\n",
      "[[8 3 5]\n",
      " [2 4 0]\n",
      " [7 1 5]]\n",
      "[[0 5 7]\n",
      " [1 6 5]\n",
      " [2 2 5]]\n",
      "[[0 9 5]\n",
      " [4 0 9]\n",
      " [3 2 6]]\n",
      "[[8 2 6]\n",
      " [6 8 8]\n",
      " [1 5 7]]\n",
      "[[3 2 3]\n",
      " [1 6 4]\n",
      " [9 0 2]]\n",
      "[[1 6 2]\n",
      " [7 8 4]\n",
      " [7 0 2]]\n"
     ]
    }
   ],
   "source": [
    "#17. Extract all the contiguous 3x3 blocks from a random 10x10 matrix\n",
    "#CONFUSED: Outside of my understanding from the lectures. Sorry. I can make the matrix but not sure how \n",
    "#to get the 'blocks'\n",
    "array17=np.random.randint(0,10,size=(10,10))\n",
    "print(array17)\n",
    "#here I grab the 3x3 matrices without overlap starting in row1, col1\n",
    "    array17_1=array17[0:3,0:3]\n",
    "    array17_2=array17[0:3,3:6]\n",
    "    array17_3=array17[0:3,6:9]\n",
    "    array17_4=array17[3:6,0:3]\n",
    "    array17_5=array17[3:6,3:6]\n",
    "    array17_6=array17[3:6,6:9]\n",
    "    array17_7=array17[6:9,0:3]\n",
    "    array17_8=array17[6:9,3:6]\n",
    "    array17_9=array17[6:9,6:9]\n",
    "print(array17_1)\n",
    "print(array17_2)\n",
    "print(array17_3)\n",
    "print(array17_4)\n",
    "print(array17_5)\n",
    "print(array17_6)\n",
    "print(array17_7)\n",
    "print(array17_8)\n",
    "print(array17_9)\n",
    "\n",
    "#try this\n",
    "#def contiguous_3x3_blocks(a):\n",
    " #   m, n =a.shape\n",
    "  #  return [a[i:i=3,j:j+3]]\n"
   ]
  },
  {
   "cell_type": "code",
   "execution_count": 121,
   "metadata": {},
   "outputs": [
    {
     "name": "stdout",
     "output_type": "stream",
     "text": [
      "[[1. 1. 1. 1. 1. 1. 1. 1. 1. 1. 1. 1. 1. 1. 1. 1.]\n",
      " [1. 1. 1. 1. 1. 1. 1. 1. 1. 1. 1. 1. 1. 1. 1. 1.]\n",
      " [1. 1. 1. 1. 1. 1. 1. 1. 1. 1. 1. 1. 1. 1. 1. 1.]\n",
      " [1. 1. 1. 1. 1. 1. 1. 1. 1. 1. 1. 1. 1. 1. 1. 1.]\n",
      " [1. 1. 1. 1. 1. 1. 1. 1. 1. 1. 1. 1. 1. 1. 1. 1.]\n",
      " [1. 1. 1. 1. 1. 1. 1. 1. 1. 1. 1. 1. 1. 1. 1. 1.]\n",
      " [1. 1. 1. 1. 1. 1. 1. 1. 1. 1. 1. 1. 1. 1. 1. 1.]\n",
      " [1. 1. 1. 1. 1. 1. 1. 1. 1. 1. 1. 1. 1. 1. 1. 1.]\n",
      " [1. 1. 1. 1. 1. 1. 1. 1. 1. 1. 1. 1. 1. 1. 1. 1.]\n",
      " [1. 1. 1. 1. 1. 1. 1. 1. 1. 1. 1. 1. 1. 1. 1. 1.]\n",
      " [1. 1. 1. 1. 1. 1. 1. 1. 1. 1. 1. 1. 1. 1. 1. 1.]\n",
      " [1. 1. 1. 1. 1. 1. 1. 1. 1. 1. 1. 1. 1. 1. 1. 1.]\n",
      " [1. 1. 1. 1. 1. 1. 1. 1. 1. 1. 1. 1. 1. 1. 1. 1.]\n",
      " [1. 1. 1. 1. 1. 1. 1. 1. 1. 1. 1. 1. 1. 1. 1. 1.]\n",
      " [1. 1. 1. 1. 1. 1. 1. 1. 1. 1. 1. 1. 1. 1. 1. 1.]\n",
      " [1. 1. 1. 1. 1. 1. 1. 1. 1. 1. 1. 1. 1. 1. 1. 1.]]\n",
      "The block sum is \n",
      "[[16. 16. 16. 16.]\n",
      " [16. 16. 16. 16.]\n",
      " [16. 16. 16. 16.]\n",
      " [16. 16. 16. 16.]]\n",
      "\n"
     ]
    }
   ],
   "source": [
    "#18. Consider a 16x16 array, how to get the block-sum (block size is 4x4)?\n",
    "array18 = np.ones((16,16))\n",
    "print(array18)\n",
    "blocksize=4\n",
    "# we want to grab 4x4 chunks and sum them (should be 16)\n",
    "block4_4 = np.add.reduceat(np.add.reduceat(array18, np.arange(0, array18.shape[0], blocksize), axis=0),\n",
    "                                       np.arange(0, array18.shape[1], blocksize), axis=1)\n",
    "print('The block sum is \\n%s\\n'%block4_4)\n"
   ]
  },
  {
   "cell_type": "code",
   "execution_count": 119,
   "metadata": {},
   "outputs": [
    {
     "data": {
      "text/plain": [
       "Ttest_indResult(statistic=-2.575462467672561, pvalue=0.01099044151906726)"
      ]
     },
     "execution_count": 119,
     "metadata": {},
     "output_type": "execute_result"
    }
   ],
   "source": [
    "#19. Generate 2 random gaussian distributions and run a t-test to see differences\n",
    "# one distribution is mean=0, sd=1 and size 100; second is mean 0.5, sd=1 and size=30. We run an independent t-test\n",
    "array19_1 = np.random.normal(0, 1, size=100)\n",
    "array19_2 = np.random.normal(0.5, 1, size=50)\n",
    "\n",
    "stats.ttest_ind(array19_1, array19_2)   \n",
    "\n"
   ]
  },
  {
   "cell_type": "code",
   "execution_count": 23,
   "metadata": {},
   "outputs": [
    {
     "name": "stdout",
     "output_type": "stream",
     "text": [
      "-------------------------------------\n",
      "\n",
      "Mean of item1 is \n",
      "0.6407563025210085\n",
      "\n",
      "SD of item1 is 0.47977876495382177\n",
      "\n",
      "Minimum of item1 is 0\n",
      "\n",
      "Maximum of item1 is 1\n",
      "\n",
      "Q10 of item1 is 0.0\n",
      "\n",
      "Q50 of item1 is 1.0\n",
      "\n",
      "Q90 of item1 is 1.0\n",
      "\n",
      "-------------------------------------\n",
      "\n",
      "Mean of item2 is \n",
      "0.6176470588235294\n",
      "\n",
      "SD of item2 is 0.4859621071134817\n",
      "\n",
      "Minimum of item2 is 0\n",
      "\n",
      "Maximum of item2 is 1\n",
      "\n",
      "Q10 of item2 is 0.0\n",
      "\n",
      "Q50 of item2 is 1.0\n",
      "\n",
      "Q90 of item2 is 1.0\n",
      "\n",
      "-------------------------------------\n",
      "\n",
      "Mean of item3 is \n",
      "1.6785714285714286\n",
      "\n",
      "SD of item3 is 0.4670248868079298\n",
      "\n",
      "Minimum of item3 is 1\n",
      "\n",
      "Maximum of item3 is 2\n",
      "\n",
      "Q10 of item3 is 1.0\n",
      "\n",
      "Q50 of item3 is 2.0\n",
      "\n",
      "Q90 of item3 is 2.0\n",
      "\n"
     ]
    }
   ],
   "source": [
    "#EXTRA - calculate summary stats using a dataset in a csv\n",
    "\n",
    "import pandas as pd\n",
    "import numpy as np\n",
    "\n",
    "df = pd.read_csv (r'sample_test_data.csv')\n",
    "print ('-------------------------------------\\n')          \n",
    "print ('Mean of item1 is \\n%s\\n'%np.mean(df.item1))\n",
    "print ('SD of item1 is %s\\n'%np.std(df.item1))\n",
    "print ('Minimum of item1 is %s\\n'%np.min(df.item1))\n",
    "print ('Maximum of item1 is %s\\n'%np.max(df.item1))\n",
    "print ('Q10 of item1 is %s\\n'%(str(np.percentile(df.item1,10))))\n",
    "print ('Q50 of item1 is %s\\n'%(str(np.percentile(df.item1,50))))\n",
    "print ('Q90 of item1 is %s\\n'%(str(np.percentile(df.item1,90))))\n",
    "\n",
    "print ('-------------------------------------\\n')          \n",
    "print ('Mean of item2 is \\n%s\\n'%np.mean(df.item2))\n",
    "print ('SD of item2 is %s\\n'%np.std(df.item2))\n",
    "print ('Minimum of item2 is %s\\n'%np.min(df.item2))\n",
    "print ('Maximum of item2 is %s\\n'%np.max(df.item2))\n",
    "print ('Q10 of item2 is %s\\n'%(str(np.percentile(df.item2,10))))\n",
    "print ('Q50 of item2 is %s\\n'%(str(np.percentile(df.item2,50))))\n",
    "print ('Q90 of item2 is %s\\n'%(str(np.percentile(df.item2,90))))\n",
    "\n",
    "print ('-------------------------------------\\n')          \n",
    "print ('Mean of item3 is \\n%s\\n'%np.mean(df.item3))\n",
    "print ('SD of item3 is %s\\n'%np.std(df.item3))\n",
    "print ('Minimum of item3 is %s\\n'%np.min(df.item3))\n",
    "print ('Maximum of item3 is %s\\n'%np.max(df.item3))\n",
    "print ('Q10 of item3 is %s\\n'%(str(np.percentile(df.item3,10))))\n",
    "print ('Q50 of item3 is %s\\n'%(str(np.percentile(df.item3,50))))\n",
    "print ('Q90 of item3 is %s\\n'%(str(np.percentile(df.item3,90))))\n",
    "\n",
    "#and so on\n"
   ]
  },
  {
   "cell_type": "code",
   "execution_count": null,
   "metadata": {},
   "outputs": [],
   "source": []
  }
 ],
 "metadata": {
  "hide_input": false,
  "kernelspec": {
   "display_name": "Python 3",
   "language": "python",
   "name": "python3"
  },
  "language_info": {
   "codemirror_mode": {
    "name": "ipython",
    "version": 3
   },
   "file_extension": ".py",
   "mimetype": "text/x-python",
   "name": "python",
   "nbconvert_exporter": "python",
   "pygments_lexer": "ipython3",
   "version": "3.8.8"
  }
 },
 "nbformat": 4,
 "nbformat_minor": 4
}
